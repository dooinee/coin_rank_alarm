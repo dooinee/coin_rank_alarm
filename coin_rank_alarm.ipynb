{
 "cells": [
  {
   "cell_type": "code",
   "execution_count": 9,
   "id": "34caf966-804f-4ccd-8335-ee9862238244",
   "metadata": {},
   "outputs": [],
   "source": [
    "import requests\n",
    "from bs4 import BeautifulSoup\n",
    "import pandas as pd\n",
    "\n",
    "import selenium\n",
    "from selenium import webdriver\n",
    "from selenium.webdriver.common.by import By\n",
    "from selenium.webdriver.support.ui import WebDriverWait\n",
    "from selenium.webdriver.support import expected_conditions as EC\n",
    "from selenium.webdriver.common.action_chains import ActionChains\n",
    "\n",
    "from time import sleep\n",
    "import gc"
   ]
  },
  {
   "cell_type": "markdown",
   "id": "f1c02cc3-ee4a-4269-9c34-5e03b3b9c8a8",
   "metadata": {},
   "source": [
    "# 1. 시가총액 TOP 300 크롤링"
   ]
  },
  {
   "cell_type": "code",
   "execution_count": 10,
   "id": "eea52995-e451-483d-85d4-84d4aac07311",
   "metadata": {},
   "outputs": [
    {
     "data": {
      "text/plain": [
       "'3.8.0'"
      ]
     },
     "execution_count": 10,
     "metadata": {},
     "output_type": "execute_result"
    }
   ],
   "source": [
    "selenium.__version__"
   ]
  },
  {
   "cell_type": "markdown",
   "id": "db09415b-f766-4875-9700-dcf6333bb20a",
   "metadata": {},
   "source": [
    "### Scrap web"
   ]
  },
  {
   "cell_type": "code",
   "execution_count": 11,
   "id": "b83f9a5d-977e-40c4-a6ab-05354f9edce0",
   "metadata": {},
   "outputs": [],
   "source": [
    "soups = []\n",
    "\n",
    "for i in range(3):\n",
    "    # 1. Strart Web-driver\n",
    "    chrome_options = webdriver.ChromeOptions()\n",
    "    chrome_options.add_argument(\"start-maximized\")\n",
    "    chrome_options.add_experimental_option(\"excludeSwitches\", [\"enable-automation\"])\n",
    "    chrome_options.add_experimental_option('useAutomationExtension', False)\n",
    "    driver = webdriver.Chrome(options=chrome_options, executable_path=r'C:\\Users\\dltnd\\AppData\\Roaming\\chromedriver_win32\\chromedriver.exe')\n",
    "\n",
    "    # 2. Scrap web \n",
    "    url = \"https://coinmarketcap.com/ko/?page=\"+str(i+1)\n",
    "    driver.get(url)\n",
    "\n",
    "    height = driver.execute_script('return document.body.scrollHeight')\n",
    "    for timer in range(1000,height,1000):\n",
    "        driver.execute_script(\"window.scrollTo(0, \"+str(timer)+\")\") \n",
    "        sleep(1)\n",
    "\n",
    "    soup = BeautifulSoup(driver.page_source, 'html.parser')\n",
    "    soups.append(soup)\n",
    "    \n",
    "    driver.quit()"
   ]
  },
  {
   "cell_type": "markdown",
   "id": "32a92d74-3ce7-4750-8b7e-a3a0d6d8d2c7",
   "metadata": {},
   "source": [
    "### Extract Coin Name, code, Market Cap"
   ]
  },
  {
   "cell_type": "code",
   "execution_count": 12,
   "id": "e924be33-8ccb-4124-b8a7-a33d7108bfa9",
   "metadata": {},
   "outputs": [],
   "source": [
    "def simplify_caps(caps):\n",
    "    new_caps = []\n",
    "    cho, uk, cheon = 10**12, 10**8, 10**3\n",
    "    for cap in caps:\n",
    "        if cap>cho:\n",
    "            tmp = round(cap/cho,1)\n",
    "            tmp = str(tmp)+'Jo'\n",
    "        elif cap>uk:\n",
    "            tmp = int(cap/uk)\n",
    "            tmp = str(tmp)+'Uk'\n",
    "        else:\n",
    "            tmp = int(cap/cheon)\n",
    "            tmp = str(tmp)+'Ch'\n",
    "        new_caps.append(tmp)\n",
    "    return new_caps\n",
    "\n",
    "dfs = []\n",
    "for soup in soups:\n",
    "    tbody = soup.tbody\n",
    "\n",
    "    names = [x.get_text() for x in tbody.find_all(\"p\",{'class':'sc-1eb5slv-0 iworPT'})]\n",
    "    codes = [x.get_text() for x in tbody.find_all(\"p\",{'class':'sc-1eb5slv-0 gGIpIK coin-item-symbol'})]\n",
    "    caps = [x.get_text() for x in soup.find_all(\"span\",{'class':'sc-1ow4cwt-1 ieFnWP'})]\n",
    "\n",
    "    assert len(names)==100, \"Not 100 names\" \n",
    "    assert len(codes)==100, \"Not 100 codes\" \n",
    "    assert len(caps)==100, \"Not 100 caps\" \n",
    "\n",
    "    # Market cap 숫자 및 단위 변환\n",
    "    caps = [int(cap[1:].replace(',','')) for cap in caps]\n",
    "    simple_caps = simplify_caps(caps)\n",
    "\n",
    "    tmp_df = pd.DataFrame({'name':names, 'code':codes, 'cap':caps, 'simple_cap':simple_caps})\n",
    "    dfs.append(tmp_df)\n",
    "\n",
    "df = pd.concat(dfs, ignore_index=True)\n",
    "\n",
    "#del dfs, soups\n",
    "#gc.collect()"
   ]
  },
  {
   "cell_type": "markdown",
   "id": "806b34cf-2cd7-4e59-bafa-a8ac6ac565e5",
   "metadata": {},
   "source": [
    "# 2. 실시간 \"거래대금 순위변동\" 크롤링 \n",
    "# + 텔레그램 알림"
   ]
  },
  {
   "cell_type": "markdown",
   "id": "e197c29e-b8a7-4eb3-95b3-0c81a2c013c2",
   "metadata": {},
   "source": [
    "### by python-binance API"
   ]
  },
  {
   "cell_type": "code",
   "execution_count": 13,
   "id": "6963f31c-f2fe-4a4a-a321-4655e0faabe1",
   "metadata": {},
   "outputs": [],
   "source": [
    "from binance.client import Client\n",
    "from datetime import datetime\n",
    "import time\n",
    "import matplotlib.pyplot as plt\n",
    "import plotly.express as px\n",
    "import plotly.graph_objects as go\n",
    "import numpy as np\n",
    "import pandas as pd\n",
    "import telegram\n",
    "from tabulate import tabulate\n",
    "import dataframe_image as dfi"
   ]
  },
  {
   "cell_type": "code",
   "execution_count": 14,
   "id": "9c01d9e6-12a8-4916-916b-705f8b5bf672",
   "metadata": {},
   "outputs": [],
   "source": [
    "with open(\"api.txt\") as f:\n",
    "    lines = f.readlines()\n",
    "    api_key = lines[0].strip()\n",
    "    api_secret  = lines[1].strip()\n",
    "    \n",
    "client = Client(api_key=api_key, api_secret=api_secret)"
   ]
  },
  {
   "cell_type": "code",
   "execution_count": 15,
   "id": "57f7784f-f6d4-4534-ab95-8043c430ec55",
   "metadata": {},
   "outputs": [],
   "source": [
    "def generate_rank(x, rank_lst):\n",
    "    curr20 = rank_lst[-1][:rank_n]\n",
    "    plot_dict = {sym:[] for sym in curr20}\n",
    "    for sym in curr20:\n",
    "        for rank in rank_lst:\n",
    "            idx = rank.index(sym)\n",
    "            plot_dict[sym].append(idx+1)\n",
    "    return plot_dict\n",
    "\n",
    "def rank_matplotlib(x, plot_dict):\n",
    "    print('x:',x)\n",
    "    print('plot_dict:',plot_dict)\n",
    "    fig, ax = plt.subplots(figsize=(18, 5), constrained_layout=True)\n",
    "    for k, v in plot_dict.items(): \n",
    "        ax.plot(x, v, label=k, marker='o')  \n",
    "    ax.set_xlabel('x label')  \n",
    "    ax.set_ylabel('y label') \n",
    "    ax.set_title(\"Simple Plot\")  \n",
    "    ax.legend()\n",
    "    ax.set_xticks(x, x)\n",
    "    plt.gca().invert_yaxis()\n",
    "    plt.show()\n",
    "\n",
    "def rank_plotly(x, plot_dict):\n",
    "    df = pd.DataFrame(plot_dict, index=x)\n",
    "\n",
    "    fig = go.Figure()\n",
    "    \n",
    "    for col in df.columns:\n",
    "        fig.add_trace(go.Scatter(x=df.index, y=df[col], text=df[col],\n",
    "                        mode='lines+markers+text', # 'lines' or 'markers'\n",
    "                        name=col))\n",
    "        \n",
    "    fig.update_traces(marker={'size':12},\n",
    "                      textposition='middle center')\n",
    "    fig.update_layout(\n",
    "        height=850,\n",
    "        yaxis = {'autorange':'reversed'},\n",
    "        title = '거래대금 순위변동 Top '+str(rank_n)\n",
    "    )\n",
    "   \n",
    "    fig.show()\n",
    "    fig.write_image('img/fig.png')\n",
    "    \n",
    "def simplify_dollars(dollars):\n",
    "    new_dolls = []\n",
    "    M = 10**6\n",
    "    for dollar in dollars:\n",
    "        if dollar>M:\n",
    "            tmp = round(dollar/M,2)\n",
    "            tmp = str(tmp)+'M'\n",
    "        new_dolls.append(tmp)\n",
    "    return new_dolls"
   ]
  },
  {
   "cell_type": "code",
   "execution_count": 17,
   "id": "86953075-4618-4242-adb7-a29a42bda1a7",
   "metadata": {},
   "outputs": [
    {
     "name": "stdout",
     "output_type": "stream",
     "text": [
      "2022-03-01 14:09:34.256342\n"
     ]
    },
    {
     "name": "stderr",
     "output_type": "stream",
     "text": [
      "C:\\Users\\dltnd\\.venv\\colab\\lib\\site-packages\\ipykernel_launcher.py:61: RuntimeWarning: invalid value encountered in true_divide\n"
     ]
    },
    {
     "name": "stdout",
     "output_type": "stream",
     "text": [
      "2022-03-01 14:10:58.123794\n",
      "2022-03-01 14:12:19.450308\n",
      "2022-03-01 14:13:40.962308\n",
      "2022-03-01 14:15:02.093854\n"
     ]
    },
    {
     "ename": "KeyboardInterrupt",
     "evalue": "",
     "output_type": "error",
     "traceback": [
      "\u001b[1;31m---------------------------------------------------------------------------\u001b[0m",
      "\u001b[1;31mKeyboardInterrupt\u001b[0m                         Traceback (most recent call last)",
      "\u001b[1;32m~\\AppData\\Local\\Temp/ipykernel_10440/458060930.py\u001b[0m in \u001b[0;36m<module>\u001b[1;34m\u001b[0m\n\u001b[0;32m     73\u001b[0m     \u001b[1;31m#bot.send_message(chat_id, msg)\u001b[0m\u001b[1;33m\u001b[0m\u001b[1;33m\u001b[0m\u001b[1;33m\u001b[0m\u001b[0m\n\u001b[0;32m     74\u001b[0m \u001b[1;33m\u001b[0m\u001b[0m\n\u001b[1;32m---> 75\u001b[1;33m     \u001b[0mtime\u001b[0m\u001b[1;33m.\u001b[0m\u001b[0msleep\u001b[0m\u001b[1;33m(\u001b[0m\u001b[1;36m60\u001b[0m\u001b[1;33m)\u001b[0m\u001b[1;33m\u001b[0m\u001b[1;33m\u001b[0m\u001b[0m\n\u001b[0m",
      "\u001b[1;31mKeyboardInterrupt\u001b[0m: "
     ]
    }
   ],
   "source": [
    "# Telegram bot 생성\n",
    "chat_id = # Enter your telegram bot ID\n",
    "token = # Enter your telegram bot token\n",
    "bot = telegram.Bot(token=token)\n",
    "\n",
    "period = 3600 # 순위변동 감지 간격(s)\n",
    "rank_n = 30 # rank Top k\n",
    "x, rank_lst = [], []\n",
    "display_cols = ['symbol','24h_change','simple_24hVolume','simple_cap']\n",
    "past = datetime.now()\n",
    "\n",
    "while True:\n",
    "    now = datetime.now()\n",
    "    print(now)\n",
    "    \n",
    "    # 1시간 후 순위변동 그래프 생성 및 전송\n",
    "    diff = now-past\n",
    "    if diff.seconds >= period: \n",
    "        past = now\n",
    "        # list 갯수 제한\n",
    "        if len(x)>=16:\n",
    "            del x[0], rank_lst[0]\n",
    "        x.append(now)\n",
    "        rank_lst.append(usdt_markets.symbol.to_list())\n",
    "        plot_dict = generate_rank(x, rank_lst)\n",
    "        \n",
    "        # 그래프 그리기\n",
    "        rank_plotly(x, plot_dict)\n",
    "        \n",
    "        # 텔래그램 그래프 전송\n",
    "        bot.send_photo(chat_id, photo=open('img/fig.png', 'rb'))\n",
    "\n",
    "    markets = client.get_all_tickers()\n",
    "\n",
    "    # Select USDT spot\n",
    "    name, symbol_lst = 'USDT', []\n",
    "    for market in markets:\n",
    "        symbol =  market['symbol']\n",
    "        if name in symbol and symbol.find(name)!=0:\n",
    "            symbol_lst.append(symbol)\n",
    "\n",
    "    # Request current market info.(20s)       \n",
    "    usdt_markets = pd.DataFrame()\n",
    "    for symbol in symbol_lst:\n",
    "        tmp_dict = client.get_ticker(symbol=symbol)\n",
    "        tmp_dict['24h_volume'] = float(tmp_dict['weightedAvgPrice'])*float(tmp_dict['volume'])\n",
    "        usdt_markets = usdt_markets.append(tmp_dict, ignore_index=True)\n",
    "    \n",
    "    usdt_markets = usdt_markets[list(tmp_dict.keys())]\n",
    "    \n",
    "    # 24h volume 단순화\n",
    "    usdt_markets['simple_24hVolume'] = simplify_dollars(usdt_markets['24h_volume'].to_list())\n",
    "    \n",
    "    # 거래대금 순으로 정렬\n",
    "    usdt_markets = usdt_markets.sort_values(by=['24h_volume'], ascending=False)\n",
    "    usdt_markets = usdt_markets.reset_index(drop=True)\n",
    "    \n",
    "    # 24h price change 칼럼 추가\n",
    "    lastPrice = np.array([float(x) for x in usdt_markets['lastPrice'].to_list()])\n",
    "    openPrice = np.array([float(x) for x in usdt_markets['openPrice'].to_list()])\n",
    "    usdt_markets['24h_change'] = (lastPrice-openPrice)/openPrice*100\n",
    "    \n",
    "    # 시가총액 칼럼 합치기\n",
    "    usdt_markets['code'] = [x.replace('USDT','') for x in usdt_markets['symbol'].to_list()]\n",
    "    usdt_markets = pd.merge(usdt_markets, df[['code','simple_cap']], on='code')\n",
    "    \n",
    "    # 최종 데이터프레임 이미지 저장\n",
    "    dfi.export(usdt_markets[:30][display_cols], 'img/usdt_markets.png')\n",
    "    \n",
    "    # 텔레그램 데이터프레임 전송\n",
    "    bot.send_photo(chat_id, photo=open('img/usdt_markets.png', 'rb'))\n",
    "    #msg = tabulate(usdt_markets[:rank_n][['symbol','simple_cap']], headers='keys', tablefmt='psql')\n",
    "    #bot.send_message(chat_id, msg)\n",
    "    \n",
    "    time.sleep(60)"
   ]
  },
  {
   "cell_type": "code",
   "execution_count": 61,
   "id": "b83ec9a1-e0cd-4687-901f-42e7d66de733",
   "metadata": {},
   "outputs": [
    {
     "name": "stdout",
     "output_type": "stream",
     "text": [
      "+----+------------+--------------+--------------------+--------------+\n",
      "|    | symbol     |   24h_change | simple_24hVolume   | simple_cap   |\n",
      "|----+------------+--------------+--------------------+--------------|\n",
      "|  0 | BTCUSDT    |    0.600577  | 1252.0M            | 952.2조      |\n",
      "|  1 | ETHUSDT    |    1.4644    | 1004.09M           | 410.4조      |\n",
      "|  2 | BUSDUSDT   |    0.010005  | 472.6M             | 21.1조       |\n",
      "|  3 | SHIBUSDT   |   -3.25463   | 367.77M            | 19.2조       |\n",
      "|  4 | XRPUSDT    |   -1.48284   | 280.19M            | 45.4조       |\n",
      "|  5 | GALAUSDT   |   -3.02618   | 236.53M            | 2.4조        |\n",
      "|  6 | DOGEUSDT   |   -3.87139   | 214.75M            | 23.0조       |\n",
      "|  7 | ONGUSDT    |   44.7745    | 195.07M            | 3077억       |\n",
      "|  8 | BNBUSDT    |    0.0497018 | 192.65M            | 77.9조       |\n",
      "|  9 | SOLUSDT    |    2.2241    | 161.37M            | 35.6조       |\n",
      "| 10 | LUNAUSDT   |    2.81315   | 160.98M            | 25.0조       |\n",
      "| 11 | SANDUSDT   |   -3.19663   | 147.48M            | 4.9조        |\n",
      "| 12 | ADAUSDT    |   -0.475737  | 136.82M            | 41.5조       |\n",
      "| 13 | FTMUSDT    |   -0.5545    | 125.08M            | 5.6조        |\n",
      "| 14 | AVAXUSDT   |    1.02028   | 117.33M            | 22.7조       |\n",
      "| 15 | MATICUSDT  |   -3.01063   | 102.37M            | 14.6조       |\n",
      "| 16 | DOTUSDT    |   -0.898045  | 97.68M             | 21.6조       |\n",
      "| 17 | TRXUSDT    |    0.854037  | 96.07M             | 7.8조        |\n",
      "| 18 | MANAUSDT   |   -1.52759   | 84.99M             | 6.0조        |\n",
      "| 19 | USDCUSDT   |    0.010005  | 65.64M             | 62.6조       |\n",
      "| 20 | NEARUSDT   |   -0.631777  | 64.02M             | 7.8조        |\n",
      "| 21 | THETAUSDT  |   -2.11456   | 63.61M             | 4.2조        |\n",
      "| 22 | PEOPLEUSDT |    5.19878   | 59.43M             | 4226억       |\n",
      "| 23 | ATOMUSDT   |    0.336072  | 56.87M             | 8.9조        |\n",
      "| 24 | ROSEUSDT   |   -5.0335    | 56.77M             | 1.2조        |\n",
      "| 25 | LINKUSDT   |   -0.502513  | 54.67M             | 8.6조        |\n",
      "| 26 | ETCUSDT    |   -2.75989   | 54.54M             | 5.1조        |\n",
      "| 27 | BETAUSDT   |   19.3034    | 52.42M             | 2007억       |\n",
      "| 28 | EGLDUSDT   |   -6.35172   | 50.83M             | 4.7조        |\n",
      "| 29 | USTUSDT    |   -0.039984  | 45.64M             | 13.8조       |\n",
      "+----+------------+--------------+--------------------+--------------+\n"
     ]
    }
   ],
   "source": [
    "print(tabulate(usdt_markets[:30][['symbol','24h_change','simple_24hVolume','simple_cap']], headers='keys', tablefmt='psql'))"
   ]
  }
 ],
 "metadata": {
  "kernelspec": {
   "display_name": "colab",
   "language": "python",
   "name": "colab"
  },
  "language_info": {
   "codemirror_mode": {
    "name": "ipython",
    "version": 3
   },
   "file_extension": ".py",
   "mimetype": "text/x-python",
   "name": "python",
   "nbconvert_exporter": "python",
   "pygments_lexer": "ipython3",
   "version": "3.7.5"
  }
 },
 "nbformat": 4,
 "nbformat_minor": 5
}
